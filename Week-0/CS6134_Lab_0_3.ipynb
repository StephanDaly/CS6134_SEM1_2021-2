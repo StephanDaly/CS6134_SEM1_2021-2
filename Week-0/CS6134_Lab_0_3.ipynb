{
  "nbformat": 4,
  "nbformat_minor": 0,
  "metadata": {
    "colab": {
      "name": "CS6134_Lab_0_3.ipynb",
      "provenance": []
    },
    "kernelspec": {
      "name": "python3",
      "display_name": "Python 3"
    },
    "language_info": {
      "name": "python"
    }
  },
  "cells": [
    {
      "cell_type": "markdown",
      "metadata": {
        "id": "7EMOVC9CSMWZ"
      },
      "source": [
        "<div>\n",
        "<img src=\"https://drive.google.com/uc?export=view&id=1vK33e_EqaHgBHcbRV_m38hx6IkG0blK_\" width=\"350\"/>\n",
        "</div> \n",
        "\n",
        "#**Artificial Intelligence - MSc**\n",
        "CS6134 - MACHINE LEARNING APPLICATIONS \n",
        "\n",
        "###Instructor: Enrique Naredo\n",
        "###CS6134_Lab-0.3"
      ]
    },
    {
      "cell_type": "markdown",
      "metadata": {
        "id": "MO7zz7oze7aL"
      },
      "source": [
        "## Problem 1\n",
        "Create a Python function that takes two numbers as arguments and return their sum.\n",
        "\n",
        "Examples\n",
        "\n",
        ">addition(3, 2) ➞ 5\n",
        ">\n",
        ">addition(-3, -6) ➞ -9\n",
        ">\n",
        ">addition(7, 3) ➞ 10\n",
        "\n",
        "Notes\n",
        "\n",
        "    Don't forget to return the `result`.\n"
      ]
    },
    {
      "cell_type": "code",
      "metadata": {
        "id": "nGTUml7pe7aO"
      },
      "source": [
        "##Solution\n",
        "# you could use different name\n",
        "# for your own function\n",
        "def summation(a, b):\n",
        "    return a + b"
      ],
      "execution_count": null,
      "outputs": []
    },
    {
      "cell_type": "code",
      "metadata": {
        "id": "dwX41rUEnKaC"
      },
      "source": [
        "def FionnualaAmazingSum(FirstNumber, SecondNumber): \n",
        "  return FirstNumber + SecondNumber"
      ],
      "execution_count": null,
      "outputs": []
    },
    {
      "cell_type": "code",
      "metadata": {
        "id": "hsauBOzwqlva"
      },
      "source": [
        "FionnualaAmazingSum(2,4)"
      ],
      "execution_count": null,
      "outputs": []
    },
    {
      "cell_type": "markdown",
      "metadata": {
        "id": "yi_QEoP_e7aP"
      },
      "source": [
        "## Problem 2"
      ]
    },
    {
      "cell_type": "markdown",
      "metadata": {
        "id": "lF73hLWne7aP"
      },
      "source": [
        "Create a function that takes a number as an argument, increments the number by +1 and returns the result.\n",
        "\n",
        "Examples\n",
        "\n",
        ">addition(0) ➞ 1\n",
        ">\n",
        ">addition(9) ➞ 10\n",
        ">\n",
        ">addition(-3) ➞ -2\n",
        "\n"
      ]
    },
    {
      "cell_type": "markdown",
      "metadata": {
        "id": "F7nPbb2Re7aP"
      },
      "source": [
        "## Problem 3"
      ]
    },
    {
      "cell_type": "markdown",
      "metadata": {
        "id": "MZoaonXIe7aQ"
      },
      "source": [
        "Create a function that takes a string and returns it as an integer.\n",
        "\n",
        "Examples\n",
        "\n",
        ">string_int(\"6\") ➞ 6\n",
        ">\n",
        ">string_int(\"1000\") ➞ 1000\n",
        ">\n",
        ">string_int(\"12\") ➞ 12\n",
        "\n",
        "Notes\n",
        "\n",
        "    All numbers will be whole numbers."
      ]
    },
    {
      "cell_type": "markdown",
      "metadata": {
        "id": "JEr8q-fke7aQ"
      },
      "source": [
        "## Problem 4"
      ]
    },
    {
      "cell_type": "markdown",
      "metadata": {
        "id": "lbOLiTTUe7aQ"
      },
      "source": [
        "Create a function that takes a base number and an exponent number and returns the calculation.\n",
        "\n",
        "Examples\n",
        "\n",
        ">calculate_exponent(5, 5) ➞ 3125\n",
        ">\n",
        ">calculate_exponent(10, 10) ➞ 10000000000\n",
        ">\n",
        ">calculate_exponent(3, 3) ➞ 27\n",
        "\n",
        "Notes\n",
        "\n",
        "    All test inputs will be positive integers.\n"
      ]
    },
    {
      "cell_type": "markdown",
      "metadata": {
        "id": "duGb44Tre7aR"
      },
      "source": [
        "## Problem 5\n",
        "\n",
        "Create a function that takes an integer and returns the factorial of that integer. That is, the integer multiplied by all positive lower integers.\n",
        "\n",
        "Examples\n",
        "\n",
        ">factorial(3) ➞ 6\n",
        ">\n",
        ">factorial(5) ➞ 120\n",
        ">\n",
        ">factorial(13) ➞ 6227020800\n",
        "\n",
        "Notes\n",
        "\n",
        "    Assume all inputs are greater than or equal to 0."
      ]
    }
  ]
}