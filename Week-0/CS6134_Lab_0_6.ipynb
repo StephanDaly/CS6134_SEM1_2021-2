{
  "nbformat": 4,
  "nbformat_minor": 0,
  "metadata": {
    "colab": {
      "name": "CS6134_Lab_0_6.ipynb",
      "provenance": []
    },
    "kernelspec": {
      "name": "python3",
      "display_name": "Python 3"
    },
    "language_info": {
      "name": "python"
    }
  },
  "cells": [
    {
      "cell_type": "markdown",
      "metadata": {
        "id": "DpnmKmf-T7zi"
      },
      "source": [
        "<div>\n",
        "<img src=\"https://drive.google.com/uc?export=view&id=1vK33e_EqaHgBHcbRV_m38hx6IkG0blK_\" width=\"350\"/>\n",
        "</div> \n",
        "\n",
        "#**Artificial Intelligence - MSc**\n",
        "CS6134 - MACHINE LEARNING APPLICATIONS \n",
        "\n",
        "###Instructor: Enrique Naredo\n",
        "###CS6134_Lab-0.6"
      ]
    },
    {
      "cell_type": "markdown",
      "metadata": {
        "id": "PFvNOA7si2d_"
      },
      "source": [
        "# Numpy"
      ]
    },
    {
      "cell_type": "markdown",
      "metadata": {
        "id": "_JcEGZQDi2eC"
      },
      "source": [
        "\n",
        "This part focuses on Numpy, see <a href=\"https://numpy.org/doc/stable/user/quickstart.html\">numpy quickstart tutorial</a>, which I encourage you to reference throughout the course.\n",
        "\n",
        "\n",
        "Some problems about numpy\n",
        "\n"
      ]
    },
    {
      "cell_type": "markdown",
      "metadata": {
        "id": "B3kV5EJgi2eD"
      },
      "source": [
        "# Problem 1 \n",
        "\n",
        "Create a null vector of size 10 (that is a vector that includes 10 zeros) and print it"
      ]
    },
    {
      "cell_type": "code",
      "metadata": {
        "id": "4joqyqsCi2eD"
      },
      "source": [
        "#solution\n",
        "import numpy as np\n",
        "Z = np.zeros(10)\n",
        "print(Z)"
      ],
      "execution_count": null,
      "outputs": []
    },
    {
      "cell_type": "markdown",
      "metadata": {
        "id": "Rt9bieP8i2eF"
      },
      "source": [
        "# Problem 2\n",
        "Create a null vector of size 10 but the fifth value which is 1 "
      ]
    },
    {
      "cell_type": "markdown",
      "metadata": {
        "id": "S5olPsQKi2eF"
      },
      "source": [
        "# Problem 3\n",
        "Create a vector with all integer values ranging from 10 to 49 "
      ]
    },
    {
      "cell_type": "markdown",
      "metadata": {
        "id": "mLZtIlQti2eF"
      },
      "source": [
        "# Problem 4\n",
        " Create a 3x3 matrix with values ranging from 0 to 8 "
      ]
    },
    {
      "cell_type": "markdown",
      "metadata": {
        "id": "F9SJOjgMi2eG"
      },
      "source": [
        "# Problem 5\n",
        "Create a 3x3x3 array with random values (you can use ` np.random.random`)"
      ]
    }
  ]
}